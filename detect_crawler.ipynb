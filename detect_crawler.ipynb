{
 "cells": [
  {
   "cell_type": "code",
   "execution_count": 1,
   "metadata": {},
   "outputs": [],
   "source": [
    "import pandas as pd\n",
    "import random\n",
    "import numpy as np\n",
    "from sklearn.preprocessing import MinMaxScaler\n",
    "from sklearn.model_selection import train_test_split"
   ]
  },
  {
   "cell_type": "code",
   "execution_count": 2,
   "metadata": {},
   "outputs": [],
   "source": [
    "df_train = pd.read_csv('data.csv', sep=';').iloc[:,1:]"
   ]
  },
  {
   "cell_type": "code",
   "execution_count": 3,
   "metadata": {},
   "outputs": [
    {
     "data": {
      "text/html": [
       "<div>\n",
       "<style scoped>\n",
       "    .dataframe tbody tr th:only-of-type {\n",
       "        vertical-align: middle;\n",
       "    }\n",
       "\n",
       "    .dataframe tbody tr th {\n",
       "        vertical-align: top;\n",
       "    }\n",
       "\n",
       "    .dataframe thead th {\n",
       "        text-align: right;\n",
       "    }\n",
       "</style>\n",
       "<table border=\"1\" class=\"dataframe\">\n",
       "  <thead>\n",
       "    <tr style=\"text-align: right;\">\n",
       "      <th></th>\n",
       "      <th>ip</th>\n",
       "      <th>200_proc</th>\n",
       "      <th>300_proc</th>\n",
       "      <th>page_proc</th>\n",
       "      <th>400_proc</th>\n",
       "      <th>night_proc</th>\n",
       "      <th>number_requests</th>\n",
       "      <th>request_image</th>\n",
       "      <th>type_user</th>\n",
       "    </tr>\n",
       "  </thead>\n",
       "  <tbody>\n",
       "    <tr>\n",
       "      <th>0</th>\n",
       "      <td>54.131.75.205</td>\n",
       "      <td>30.953</td>\n",
       "      <td>21.065</td>\n",
       "      <td>16.964</td>\n",
       "      <td>8.030</td>\n",
       "      <td>1.053</td>\n",
       "      <td>149</td>\n",
       "      <td>20.516</td>\n",
       "      <td>human</td>\n",
       "    </tr>\n",
       "    <tr>\n",
       "      <th>1</th>\n",
       "      <td>187.231.153.4</td>\n",
       "      <td>48.324</td>\n",
       "      <td>38.419</td>\n",
       "      <td>23.293</td>\n",
       "      <td>3.588</td>\n",
       "      <td>15.171</td>\n",
       "      <td>26</td>\n",
       "      <td>24.339</td>\n",
       "      <td>human</td>\n",
       "    </tr>\n",
       "    <tr>\n",
       "      <th>2</th>\n",
       "      <td>154.145.184.6</td>\n",
       "      <td>47.418</td>\n",
       "      <td>21.994</td>\n",
       "      <td>19.241</td>\n",
       "      <td>7.365</td>\n",
       "      <td>0.319</td>\n",
       "      <td>128</td>\n",
       "      <td>13.913</td>\n",
       "      <td>human</td>\n",
       "    </tr>\n",
       "    <tr>\n",
       "      <th>3</th>\n",
       "      <td>44.52.240.50</td>\n",
       "      <td>26.554</td>\n",
       "      <td>49.513</td>\n",
       "      <td>25.753</td>\n",
       "      <td>3.120</td>\n",
       "      <td>19.842</td>\n",
       "      <td>179</td>\n",
       "      <td>8.323</td>\n",
       "      <td>human</td>\n",
       "    </tr>\n",
       "    <tr>\n",
       "      <th>4</th>\n",
       "      <td>144.85.254.116</td>\n",
       "      <td>32.210</td>\n",
       "      <td>45.793</td>\n",
       "      <td>12.566</td>\n",
       "      <td>1.535</td>\n",
       "      <td>10.783</td>\n",
       "      <td>174</td>\n",
       "      <td>15.532</td>\n",
       "      <td>human</td>\n",
       "    </tr>\n",
       "    <tr>\n",
       "      <th>...</th>\n",
       "      <td>...</td>\n",
       "      <td>...</td>\n",
       "      <td>...</td>\n",
       "      <td>...</td>\n",
       "      <td>...</td>\n",
       "      <td>...</td>\n",
       "      <td>...</td>\n",
       "      <td>...</td>\n",
       "      <td>...</td>\n",
       "    </tr>\n",
       "    <tr>\n",
       "      <th>595</th>\n",
       "      <td>157.33.215.28</td>\n",
       "      <td>30.341</td>\n",
       "      <td>33.183</td>\n",
       "      <td>37.255</td>\n",
       "      <td>25.268</td>\n",
       "      <td>27.245</td>\n",
       "      <td>139</td>\n",
       "      <td>8.387</td>\n",
       "      <td>crawler</td>\n",
       "    </tr>\n",
       "    <tr>\n",
       "      <th>596</th>\n",
       "      <td>240.162.106.180</td>\n",
       "      <td>18.973</td>\n",
       "      <td>32.929</td>\n",
       "      <td>51.447</td>\n",
       "      <td>29.557</td>\n",
       "      <td>25.113</td>\n",
       "      <td>70</td>\n",
       "      <td>7.778</td>\n",
       "      <td>crawler</td>\n",
       "    </tr>\n",
       "    <tr>\n",
       "      <th>597</th>\n",
       "      <td>211.57.124.64</td>\n",
       "      <td>50.522</td>\n",
       "      <td>31.376</td>\n",
       "      <td>31.439</td>\n",
       "      <td>1.624</td>\n",
       "      <td>38.779</td>\n",
       "      <td>153</td>\n",
       "      <td>9.877</td>\n",
       "      <td>human</td>\n",
       "    </tr>\n",
       "    <tr>\n",
       "      <th>598</th>\n",
       "      <td>187.60.48.17</td>\n",
       "      <td>34.885</td>\n",
       "      <td>28.095</td>\n",
       "      <td>34.586</td>\n",
       "      <td>38.400</td>\n",
       "      <td>32.009</td>\n",
       "      <td>89</td>\n",
       "      <td>4.918</td>\n",
       "      <td>crawler</td>\n",
       "    </tr>\n",
       "    <tr>\n",
       "      <th>599</th>\n",
       "      <td>158.243.78.248</td>\n",
       "      <td>21.199</td>\n",
       "      <td>40.909</td>\n",
       "      <td>27.568</td>\n",
       "      <td>5.287</td>\n",
       "      <td>34.896</td>\n",
       "      <td>162</td>\n",
       "      <td>12.344</td>\n",
       "      <td>human</td>\n",
       "    </tr>\n",
       "  </tbody>\n",
       "</table>\n",
       "<p>600 rows × 9 columns</p>\n",
       "</div>"
      ],
      "text/plain": [
       "                  ip  200_proc  300_proc  page_proc  400_proc  night_proc  \\\n",
       "0      54.131.75.205    30.953    21.065     16.964     8.030       1.053   \n",
       "1      187.231.153.4    48.324    38.419     23.293     3.588      15.171   \n",
       "2      154.145.184.6    47.418    21.994     19.241     7.365       0.319   \n",
       "3       44.52.240.50    26.554    49.513     25.753     3.120      19.842   \n",
       "4     144.85.254.116    32.210    45.793     12.566     1.535      10.783   \n",
       "..               ...       ...       ...        ...       ...         ...   \n",
       "595    157.33.215.28    30.341    33.183     37.255    25.268      27.245   \n",
       "596  240.162.106.180    18.973    32.929     51.447    29.557      25.113   \n",
       "597    211.57.124.64    50.522    31.376     31.439     1.624      38.779   \n",
       "598     187.60.48.17    34.885    28.095     34.586    38.400      32.009   \n",
       "599   158.243.78.248    21.199    40.909     27.568     5.287      34.896   \n",
       "\n",
       "     number_requests  request_image type_user  \n",
       "0                149         20.516     human  \n",
       "1                 26         24.339     human  \n",
       "2                128         13.913     human  \n",
       "3                179          8.323     human  \n",
       "4                174         15.532     human  \n",
       "..               ...            ...       ...  \n",
       "595              139          8.387   crawler  \n",
       "596               70          7.778   crawler  \n",
       "597              153          9.877     human  \n",
       "598               89          4.918   crawler  \n",
       "599              162         12.344     human  \n",
       "\n",
       "[600 rows x 9 columns]"
      ]
     },
     "execution_count": 3,
     "metadata": {},
     "output_type": "execute_result"
    }
   ],
   "source": [
    "df_train"
   ]
  },
  {
   "cell_type": "code",
   "execution_count": 4,
   "metadata": {},
   "outputs": [],
   "source": [
    "df_train, df_test = train_test_split(df_train, test_size=0.25)"
   ]
  },
  {
   "cell_type": "code",
   "execution_count": 5,
   "metadata": {},
   "outputs": [
    {
     "data": {
      "text/plain": [
       "human      371\n",
       "crawler     79\n",
       "Name: type_user, dtype: int64"
      ]
     },
     "execution_count": 5,
     "metadata": {},
     "output_type": "execute_result"
    }
   ],
   "source": [
    "df_train['type_user'].value_counts()"
   ]
  },
  {
   "cell_type": "code",
   "execution_count": 6,
   "metadata": {},
   "outputs": [
    {
     "data": {
      "text/plain": [
       "human      129\n",
       "crawler     21\n",
       "Name: type_user, dtype: int64"
      ]
     },
     "execution_count": 6,
     "metadata": {},
     "output_type": "execute_result"
    }
   ],
   "source": [
    "df_test['type_user'].value_counts()"
   ]
  },
  {
   "cell_type": "code",
   "execution_count": 7,
   "metadata": {},
   "outputs": [],
   "source": [
    "df_train = df_train.iloc[:,1:]"
   ]
  },
  {
   "cell_type": "code",
   "execution_count": 8,
   "metadata": {},
   "outputs": [],
   "source": [
    "ip_test = df_test.iloc[:, 0]\n",
    "df_test = df_test.iloc[:, 1:]"
   ]
  },
  {
   "cell_type": "code",
   "execution_count": 9,
   "metadata": {},
   "outputs": [],
   "source": [
    "x_train, y_train = df_train.drop(['type_user'], axis = 1), df_train.loc[:, 'type_user']\n",
    "x_test, y_test = df_test.drop(['type_user'], axis = 1), df_test.loc[:, 'type_user']"
   ]
  },
  {
   "cell_type": "code",
   "execution_count": 10,
   "metadata": {},
   "outputs": [
    {
     "data": {
      "text/plain": [
       "array([[0.1538549 , 0.32974032, 0.37347729, ..., 0.16305084, 0.78888889,\n",
       "        0.14834804],\n",
       "       [0.03956074, 0.33662853, 0.90670198, ..., 0.97732688, 0.19444444,\n",
       "        0.06929597],\n",
       "       [0.93056408, 0.42879788, 0.15265838, ..., 0.06373053, 0.16666667,\n",
       "        0.68531396],\n",
       "       ...,\n",
       "       [0.77652729, 0.40490532, 0.42894683, ..., 0.00323543, 0.54444444,\n",
       "        0.13661996],\n",
       "       [0.15724257, 0.03928294, 0.54019149, ..., 0.96967721, 0.98333333,\n",
       "        0.11160699],\n",
       "       [0.34306437, 0.52358994, 0.75913628, ..., 0.70113616, 0.76666667,\n",
       "        0.17813527]])"
      ]
     },
     "execution_count": 10,
     "metadata": {},
     "output_type": "execute_result"
    }
   ],
   "source": [
    "minmax = MinMaxScaler()\n",
    "b = minmax.fit_transform(x_train)\n",
    "\n",
    "x_train = b\n",
    "x_train"
   ]
  },
  {
   "cell_type": "code",
   "execution_count": 11,
   "metadata": {},
   "outputs": [
    {
     "data": {
      "text/plain": [
       "array([[0.39956347, 0.80283598, 0.05966592, ..., 0.54084422, 0.43333333,\n",
       "        0.05808684],\n",
       "       [0.80494737, 0.36150099, 0.20790385, ..., 0.42499561, 0.43333333,\n",
       "        0.20484345],\n",
       "       [0.5475752 , 0.2657002 , 0.21324099, ..., 0.8623561 , 0.82222222,\n",
       "        0.37816987],\n",
       "       ...,\n",
       "       [1.00125048, 0.5821829 , 0.31884294, ..., 0.56023175, 0.16666667,\n",
       "        0.47905207],\n",
       "       [0.5773367 , 0.28437617, 0.07909961, ..., 0.18610017, 0.53888889,\n",
       "        0.59889293],\n",
       "       [0.70659118, 0.34478485, 0.03310246, ..., 0.45002633, 0.15      ,\n",
       "        0.22760768]])"
      ]
     },
     "execution_count": 11,
     "metadata": {},
     "output_type": "execute_result"
    }
   ],
   "source": [
    "b = minmax.transform(x_test)\n",
    "\n",
    "x_test = b\n",
    "x_test"
   ]
  },
  {
   "cell_type": "code",
   "execution_count": 12,
   "metadata": {},
   "outputs": [],
   "source": [
    "class PNN:\n",
    "    \n",
    "    def __init__(self, X, y):\n",
    "        \n",
    "        self.w = X\n",
    "        self.clss = np.unique(y)\n",
    "        self.mask = [y == clss \n",
    "                     for clss in np.unique(y)]\n",
    "        \n",
    "    \n",
    "    def predict(self, x):\n",
    "        \n",
    "        image_layer = np.zeros(self.w.shape[0])\n",
    "        addition_layer = np.zeros(len(self.mask))\n",
    "        \n",
    "        for i in range(self.w.shape[0]):\n",
    "            for j in range(self.w.shape[1]):\n",
    "                \n",
    "                image_layer[i] += np.e ** ( -(self.w[i,j] - x[j])**2 / 0.3**2 )             \n",
    "        \n",
    "        for k, mask in enumerate(self.mask):\n",
    "            addition_layer[k] = np.sum(image_layer * mask) / np.sum(mask)\n",
    "        \n",
    "        return self.clss[np.argmax(addition_layer)]"
   ]
  },
  {
   "cell_type": "code",
   "execution_count": 13,
   "metadata": {},
   "outputs": [
    {
     "data": {
      "text/plain": [
       "human      129\n",
       "crawler     21\n",
       "Name: type_user, dtype: int64"
      ]
     },
     "execution_count": 13,
     "metadata": {},
     "output_type": "execute_result"
    }
   ],
   "source": [
    "y_test.value_counts()"
   ]
  },
  {
   "cell_type": "code",
   "execution_count": 14,
   "metadata": {},
   "outputs": [
    {
     "data": {
      "text/plain": [
       "human      371\n",
       "crawler     79\n",
       "Name: type_user, dtype: int64"
      ]
     },
     "execution_count": 14,
     "metadata": {},
     "output_type": "execute_result"
    }
   ],
   "source": [
    "y_train.value_counts()"
   ]
  },
  {
   "cell_type": "code",
   "execution_count": 15,
   "metadata": {},
   "outputs": [],
   "source": [
    "pnn = PNN(x_train, y_train)"
   ]
  },
  {
   "cell_type": "code",
   "execution_count": 16,
   "metadata": {},
   "outputs": [],
   "source": [
    "result_pred = list(map(lambda x: pnn.predict(x), x_test))"
   ]
  },
  {
   "cell_type": "code",
   "execution_count": 17,
   "metadata": {},
   "outputs": [
    {
     "data": {
      "text/html": [
       "<div>\n",
       "<style scoped>\n",
       "    .dataframe tbody tr th:only-of-type {\n",
       "        vertical-align: middle;\n",
       "    }\n",
       "\n",
       "    .dataframe tbody tr th {\n",
       "        vertical-align: top;\n",
       "    }\n",
       "\n",
       "    .dataframe thead th {\n",
       "        text-align: right;\n",
       "    }\n",
       "</style>\n",
       "<table border=\"1\" class=\"dataframe\">\n",
       "  <thead>\n",
       "    <tr style=\"text-align: right;\">\n",
       "      <th></th>\n",
       "      <th>ip</th>\n",
       "      <th>real_type_user</th>\n",
       "      <th>pred_type_user</th>\n",
       "    </tr>\n",
       "  </thead>\n",
       "  <tbody>\n",
       "    <tr>\n",
       "      <th>0</th>\n",
       "      <td>185.116.252.184</td>\n",
       "      <td>human</td>\n",
       "      <td>human</td>\n",
       "    </tr>\n",
       "    <tr>\n",
       "      <th>1</th>\n",
       "      <td>90.119.247.70</td>\n",
       "      <td>human</td>\n",
       "      <td>human</td>\n",
       "    </tr>\n",
       "    <tr>\n",
       "      <th>2</th>\n",
       "      <td>209.17.83.195</td>\n",
       "      <td>human</td>\n",
       "      <td>human</td>\n",
       "    </tr>\n",
       "    <tr>\n",
       "      <th>3</th>\n",
       "      <td>184.117.252.9</td>\n",
       "      <td>human</td>\n",
       "      <td>crawler</td>\n",
       "    </tr>\n",
       "    <tr>\n",
       "      <th>4</th>\n",
       "      <td>24.201.54.13</td>\n",
       "      <td>human</td>\n",
       "      <td>human</td>\n",
       "    </tr>\n",
       "    <tr>\n",
       "      <th>...</th>\n",
       "      <td>...</td>\n",
       "      <td>...</td>\n",
       "      <td>...</td>\n",
       "    </tr>\n",
       "    <tr>\n",
       "      <th>145</th>\n",
       "      <td>147.51.179.253</td>\n",
       "      <td>human</td>\n",
       "      <td>human</td>\n",
       "    </tr>\n",
       "    <tr>\n",
       "      <th>146</th>\n",
       "      <td>109.177.65.72</td>\n",
       "      <td>human</td>\n",
       "      <td>human</td>\n",
       "    </tr>\n",
       "    <tr>\n",
       "      <th>147</th>\n",
       "      <td>99.174.13.84</td>\n",
       "      <td>human</td>\n",
       "      <td>human</td>\n",
       "    </tr>\n",
       "    <tr>\n",
       "      <th>148</th>\n",
       "      <td>68.119.143.234</td>\n",
       "      <td>human</td>\n",
       "      <td>human</td>\n",
       "    </tr>\n",
       "    <tr>\n",
       "      <th>149</th>\n",
       "      <td>49.195.33.166</td>\n",
       "      <td>human</td>\n",
       "      <td>human</td>\n",
       "    </tr>\n",
       "  </tbody>\n",
       "</table>\n",
       "<p>150 rows × 3 columns</p>\n",
       "</div>"
      ],
      "text/plain": [
       "                  ip real_type_user pred_type_user\n",
       "0    185.116.252.184          human          human\n",
       "1      90.119.247.70          human          human\n",
       "2      209.17.83.195          human          human\n",
       "3      184.117.252.9          human        crawler\n",
       "4       24.201.54.13          human          human\n",
       "..               ...            ...            ...\n",
       "145   147.51.179.253          human          human\n",
       "146    109.177.65.72          human          human\n",
       "147     99.174.13.84          human          human\n",
       "148   68.119.143.234          human          human\n",
       "149    49.195.33.166          human          human\n",
       "\n",
       "[150 rows x 3 columns]"
      ]
     },
     "execution_count": 17,
     "metadata": {},
     "output_type": "execute_result"
    }
   ],
   "source": [
    "df_result = pd.DataFrame(columns=['ip','real_type_user','pred_type_user'])\n",
    "df_result['ip'] = ip_test.values \n",
    "df_result['real_type_user'] = y_test.values\n",
    "df_result['pred_type_user'] = result_pred\n",
    "df_result"
   ]
  },
  {
   "cell_type": "code",
   "execution_count": 18,
   "metadata": {},
   "outputs": [],
   "source": [
    "result_error = sum(list(map(lambda x, y: int(x==y),result_pred,y_test.to_numpy())))"
   ]
  },
  {
   "cell_type": "code",
   "execution_count": 19,
   "metadata": {},
   "outputs": [
    {
     "name": "stdout",
     "output_type": "stream",
     "text": [
      "accuracy: 143 / 150; 4.667% - error\n"
     ]
    }
   ],
   "source": [
    "err =  round((len(result_pred)-result_error)/len(result_pred)*100,3)\n",
    "print('accuracy: %s / %s; %s%% - error'%(result_error, len(result_pred),err))"
   ]
  },
  {
   "cell_type": "code",
   "execution_count": 20,
   "metadata": {},
   "outputs": [
    {
     "data": {
      "text/html": [
       "<div>\n",
       "<style scoped>\n",
       "    .dataframe tbody tr th:only-of-type {\n",
       "        vertical-align: middle;\n",
       "    }\n",
       "\n",
       "    .dataframe tbody tr th {\n",
       "        vertical-align: top;\n",
       "    }\n",
       "\n",
       "    .dataframe thead th {\n",
       "        text-align: right;\n",
       "    }\n",
       "</style>\n",
       "<table border=\"1\" class=\"dataframe\">\n",
       "  <thead>\n",
       "    <tr style=\"text-align: right;\">\n",
       "      <th></th>\n",
       "      <th>ip</th>\n",
       "      <th>real_type_user</th>\n",
       "      <th>pred_type_user</th>\n",
       "    </tr>\n",
       "  </thead>\n",
       "  <tbody>\n",
       "    <tr>\n",
       "      <th>3</th>\n",
       "      <td>184.117.252.9</td>\n",
       "      <td>human</td>\n",
       "      <td>crawler</td>\n",
       "    </tr>\n",
       "    <tr>\n",
       "      <th>10</th>\n",
       "      <td>161.182.29.56</td>\n",
       "      <td>human</td>\n",
       "      <td>crawler</td>\n",
       "    </tr>\n",
       "    <tr>\n",
       "      <th>35</th>\n",
       "      <td>44.101.99.73</td>\n",
       "      <td>human</td>\n",
       "      <td>crawler</td>\n",
       "    </tr>\n",
       "    <tr>\n",
       "      <th>38</th>\n",
       "      <td>176.36.28.36</td>\n",
       "      <td>human</td>\n",
       "      <td>crawler</td>\n",
       "    </tr>\n",
       "    <tr>\n",
       "      <th>42</th>\n",
       "      <td>132.129.214.167</td>\n",
       "      <td>human</td>\n",
       "      <td>crawler</td>\n",
       "    </tr>\n",
       "    <tr>\n",
       "      <th>44</th>\n",
       "      <td>202.204.63.203</td>\n",
       "      <td>human</td>\n",
       "      <td>crawler</td>\n",
       "    </tr>\n",
       "    <tr>\n",
       "      <th>120</th>\n",
       "      <td>86.118.72.104</td>\n",
       "      <td>human</td>\n",
       "      <td>crawler</td>\n",
       "    </tr>\n",
       "  </tbody>\n",
       "</table>\n",
       "</div>"
      ],
      "text/plain": [
       "                  ip real_type_user pred_type_user\n",
       "3      184.117.252.9          human        crawler\n",
       "10     161.182.29.56          human        crawler\n",
       "35      44.101.99.73          human        crawler\n",
       "38      176.36.28.36          human        crawler\n",
       "42   132.129.214.167          human        crawler\n",
       "44    202.204.63.203          human        crawler\n",
       "120    86.118.72.104          human        crawler"
      ]
     },
     "execution_count": 20,
     "metadata": {},
     "output_type": "execute_result"
    }
   ],
   "source": [
    "df_result[df_result.real_type_user!=df_result.pred_type_user]"
   ]
  },
  {
   "cell_type": "code",
   "execution_count": 21,
   "metadata": {},
   "outputs": [
    {
     "data": {
      "text/plain": [
       "array(['184.117.252.9', '161.182.29.56', '38.110.120.105',\n",
       "       '158.22.246.105', '124.240.66.182', '215.126.225.178',\n",
       "       '241.11.36.117', '242.191.68.207', '44.101.99.73', '176.36.28.36',\n",
       "       '132.129.214.167', '202.204.63.203', '171.142.156.4',\n",
       "       '46.171.125.244', '161.18.90.147', '42.251.0.243',\n",
       "       '139.130.236.95', '222.163.89.170', '20.67.80.162',\n",
       "       '59.67.174.229', '243.227.104.139', '218.104.71.187',\n",
       "       '90.151.11.30', '74.248.112.208', '251.128.251.123',\n",
       "       '86.118.72.104', '209.116.196.96', '213.240.166.85'], dtype=object)"
      ]
     },
     "execution_count": 21,
     "metadata": {},
     "output_type": "execute_result"
    }
   ],
   "source": [
    "df_result[df_result.pred_type_user=='crawler'].ip.values"
   ]
  },
  {
   "cell_type": "code",
   "execution_count": null,
   "metadata": {},
   "outputs": [],
   "source": []
  },
  {
   "cell_type": "code",
   "execution_count": null,
   "metadata": {},
   "outputs": [],
   "source": []
  },
  {
   "cell_type": "code",
   "execution_count": null,
   "metadata": {},
   "outputs": [],
   "source": []
  }
 ],
 "metadata": {
  "kernelspec": {
   "display_name": "Python 3",
   "language": "python",
   "name": "python3"
  },
  "language_info": {
   "codemirror_mode": {
    "name": "ipython",
    "version": 3
   },
   "file_extension": ".py",
   "mimetype": "text/x-python",
   "name": "python",
   "nbconvert_exporter": "python",
   "pygments_lexer": "ipython3",
   "version": "3.8.3"
  }
 },
 "nbformat": 4,
 "nbformat_minor": 4
}
